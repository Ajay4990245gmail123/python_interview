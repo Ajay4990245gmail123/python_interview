{
 "cells": [
  {
   "cell_type": "code",
   "execution_count": 4,
   "id": "9a3f8328",
   "metadata": {},
   "outputs": [],
   "source": [
    "# 1.What is python ? "
   ]
  },
  {
   "cell_type": "markdown",
   "id": "2a0e51ad",
   "metadata": {},
   "source": [
    "Python is a high-level, general-purpose programming language. Its design philosophy emphasizes code readability with the use of significant indentation. Python is dynamically-typed and garbage-collected. It supports multiple programming paradigms, including structured, object-oriented and functional"
   ]
  },
  {
   "cell_type": "code",
   "execution_count": 5,
   "id": "62465751",
   "metadata": {},
   "outputs": [],
   "source": [
    "# 2.What is PEP8 ?\n"
   ]
  },
  {
   "cell_type": "markdown",
   "id": "868d8140",
   "metadata": {},
   "source": [
    "PEP 8 is a coding convention, a set of recommendation, about how to write your Python code more readable."
   ]
  },
  {
   "cell_type": "code",
   "execution_count": 6,
   "id": "10c5c735",
   "metadata": {},
   "outputs": [],
   "source": [
    "# 3.What is pickling and unpickling?\n",
    "\n",
    " "
   ]
  },
  {
   "cell_type": "markdown",
   "id": "b217b47d",
   "metadata": {},
   "source": [
    "Pickle module accepts any Python object and converts it into a string representation and dumps it into a file by using dump function, this process is called pickling. While the process of retrieving original Python objects from the stored string representation is called unpickling\n",
    "\n"
   ]
  },
  {
   "cell_type": "code",
   "execution_count": 7,
   "id": "8356b60c",
   "metadata": {},
   "outputs": [],
   "source": [
    "# 4. How memory is managed in Python?"
   ]
  },
  {
   "cell_type": "markdown",
   "id": "19b23b8e",
   "metadata": {},
   "source": [
    "Python memory is managed by Python private heap space. All Python objects and data structures are located in a private heap. The programmer does not have an access to this private heap and interpreter takes care of this Python private heap.\n",
    " The allocation of Python heap space for Python objects is done by Python memory manager. \n",
    "The core API gives access to some tools for the programmer to code. Python also have an inbuilt garbage collector, which recycle all the unused memory and frees the memory and makes it available to the heap space."
   ]
  },
  {
   "cell_type": "code",
   "execution_count": 8,
   "id": "f210df82",
   "metadata": {},
   "outputs": [],
   "source": [
    "# 5.What are the tools that help to find bugs or perform static analysis?\n"
   ]
  },
  {
   "cell_type": "markdown",
   "id": "9c7e237f",
   "metadata": {},
   "source": [
    "PyChecker is a static analysis tool that detects the bugs in Python source code and warns about the style and complexity of the bug. Pylint is another tool that verifies whether the module meets the coding standard."
   ]
  },
  {
   "cell_type": "code",
   "execution_count": 9,
   "id": "186c9aed",
   "metadata": {},
   "outputs": [],
   "source": [
    "# 6. What are the built-in type does python provides?"
   ]
  },
  {
   "cell_type": "markdown",
   "id": "6b02dbf4",
   "metadata": {},
   "source": [
    " There are mutable and Immutable types of Pythons built in types\n",
    " Mutable built-in types\n",
    "•\tList\n",
    "•\t Sets \n",
    "•\tDictionaries\n",
    "Immutable built-in types\n",
    "\n",
    "•\tStrings\n",
    "•\t Tuples \n",
    "•\tNumbers"
   ]
  },
  {
   "cell_type": "code",
   "execution_count": 10,
   "id": "39b487d7",
   "metadata": {},
   "outputs": [],
   "source": [
    "# .\tWhat is lambda in Python?\n",
    "\n",
    "\n"
   ]
  },
  {
   "cell_type": "markdown",
   "id": "3057ab49",
   "metadata": {},
   "source": [
    " It is a single expression anonymous function often used as inline function"
   ]
  },
  {
   "cell_type": "code",
   "execution_count": 11,
   "id": "dace2add",
   "metadata": {},
   "outputs": [],
   "source": [
    "# 8.\tWhy lambda forms in python does not have statements?\n",
    " \n"
   ]
  },
  {
   "cell_type": "markdown",
   "id": "05f78ee0",
   "metadata": {},
   "source": [
    "A lambda form in python does not have statements as it is used to make new function object and then return them at runtime."
   ]
  },
  {
   "cell_type": "code",
   "execution_count": 12,
   "id": "d2ff8f91",
   "metadata": {},
   "outputs": [],
   "source": [
    "# 9.\t What is pass in Python?\n"
   ]
  },
  {
   "cell_type": "markdown",
   "id": "133ceade",
   "metadata": {},
   "source": [
    " Pass means, no-operation Python statement, or in other words it is a place holder in compound statement, where there should be a blank left and nothing has to be written there.\n"
   ]
  },
  {
   "cell_type": "markdown",
   "id": "0d99e6de",
   "metadata": {},
   "source": [
    "A unit testing framework in Python is known as unittest. It supports sharing of setups, automation testing, shutdown code for tests, aggregation of tests into collections etc.\n"
   ]
  },
  {
   "cell_type": "code",
   "execution_count": 13,
   "id": "427634bb",
   "metadata": {},
   "outputs": [],
   "source": [
    "\n",
    "# 10.\tIn Python what is slicing? \n"
   ]
  },
  {
   "cell_type": "markdown",
   "id": "ac2c6184",
   "metadata": {},
   "source": [
    "A mechanism to select a range of items from sequence types like list, tuple, strings etc. is known as slicing.\n"
   ]
  },
  {
   "cell_type": "code",
   "execution_count": 14,
   "id": "5b0dfe14",
   "metadata": {},
   "outputs": [],
   "source": [
    "# 11.\t What are generators in Python? \n"
   ]
  },
  {
   "cell_type": "markdown",
   "id": "e34a1e3d",
   "metadata": {},
   "source": [
    "The way of implementing iterators are known as generators. It is a normal function except that it yields expression in the function. \n"
   ]
  },
  {
   "cell_type": "code",
   "execution_count": 15,
   "id": "a57b3e4f",
   "metadata": {},
   "outputs": [],
   "source": [
    "# 12.\t What is docstring in Python? \n"
   ]
  },
  {
   "cell_type": "markdown",
   "id": "95bf7319",
   "metadata": {},
   "source": [
    "A Python documentation string is known as docstring, it is a way of documenting Python modules ,classes and   functions \n"
   ]
  },
  {
   "cell_type": "code",
   "execution_count": 16,
   "id": "80f66e6d",
   "metadata": {},
   "outputs": [],
   "source": [
    "# 13.\t What is module and package in Python? \n",
    "\n"
   ]
  },
  {
   "cell_type": "markdown",
   "id": "9ff44cd0",
   "metadata": {},
   "source": [
    "In Python, module is the way to structure program. Each Python program file is a module, which imports other modules like objects and attributes. The folder of Python program is a package of modules. A package can have modules or subfolders.\n"
   ]
  },
  {
   "cell_type": "code",
   "execution_count": 17,
   "id": "14aece0a",
   "metadata": {},
   "outputs": [],
   "source": [
    "# 14.\tHow can the ternary operators be used in python?\n"
   ]
  },
  {
   "cell_type": "markdown",
   "id": "97b5cdfa",
   "metadata": {},
   "source": [
    "The Ternary operator is the operator that is used to show the conditional statements. This consists of the true or false values with a statement that has to be evaluated for it.\n"
   ]
  },
  {
   "cell_type": "code",
   "execution_count": 18,
   "id": "db140fe1",
   "metadata": {},
   "outputs": [],
   "source": [
    "# 15.\tWhat does this mean: *args, **kwargs? And why would we use it?\n",
    "\n"
   ]
  },
  {
   "cell_type": "markdown",
   "id": "bc3e0bb4",
   "metadata": {},
   "source": [
    " We use *args when we aren’t sure how many arguments are going to be passed to a function, or if we want to pass a stored list or tuple of arguments to a function. **kwargs is used when we don’t know how many keyword arguments will be passed to a function, or it can be used to pass the values of a dictionary as keyword arguments.\n"
   ]
  },
  {
   "cell_type": "code",
   "execution_count": 19,
   "id": "143bfb4d",
   "metadata": {},
   "outputs": [],
   "source": [
    "# 16.\tHow can files be deleted in Python?\n",
    "\n"
   ]
  },
  {
   "cell_type": "raw",
   "id": "3b6ed91c",
   "metadata": {},
   "source": [
    "To delete a file in Python, you need to import the OS Module. After that, you need to use the os.remove() function\n",
    "EX :    import os\n",
    "Os.remove(xyz.text)"
   ]
  },
  {
   "cell_type": "code",
   "execution_count": 20,
   "id": "ae6c96a3",
   "metadata": {},
   "outputs": [],
   "source": [
    "# 17.\tExplain Inheritance in Python with an example.\n"
   ]
  },
  {
   "cell_type": "markdown",
   "id": "2facc349",
   "metadata": {},
   "source": [
    "Inheritance allows One class to gain all the members(say attributes and methods) of another class. Inheritance provides code reusability, makes it easier to create and maintain an application. The class from which we are inheriting is called super-class and the class that is inherited is called a derived / child class.\n"
   ]
  },
  {
   "cell_type": "code",
   "execution_count": 21,
   "id": "99b5666c",
   "metadata": {},
   "outputs": [],
   "source": [
    "# 18.\tHow are classes created in Python? \n",
    "\n"
   ]
  },
  {
   "cell_type": "code",
   "execution_count": 22,
   "id": "5f5c8e8a",
   "metadata": {},
   "outputs": [
    {
     "name": "stdout",
     "output_type": "stream",
     "text": [
      "abc\n"
     ]
    }
   ],
   "source": [
    "# Class in Python is created using the class keyword\n",
    "class Employee:\n",
    "    def __init__(self, name):\n",
    "        self.name = name\n",
    "E1=Employee(\"abc\")\n",
    "print(E1.name)"
   ]
  },
  {
   "cell_type": "code",
   "execution_count": 23,
   "id": "38866dd1",
   "metadata": {},
   "outputs": [],
   "source": [
    "\n",
    "# 19.\tdoes python support multiple inheritance?\n"
   ]
  },
  {
   "cell_type": "markdown",
   "id": "5b3190ab",
   "metadata": {},
   "source": [
    "Multiple inheritance means that a class can be derived from more than one parent classes. Python does support multiple inheritance, unlike Java.\n"
   ]
  },
  {
   "cell_type": "code",
   "execution_count": 24,
   "id": "d331115d",
   "metadata": {},
   "outputs": [],
   "source": [
    "# 20.\tWhat is Polymorphism in Python?\n"
   ]
  },
  {
   "cell_type": "markdown",
   "id": "7c5f74fc",
   "metadata": {},
   "source": [
    " Polymorphism means the ability to take multiple forms. So, for instance, if the parent class has a method named ABC then the child class also can have a method with the same name ABC having its own parameters and variables. Python allows polymorphism.\n"
   ]
  },
  {
   "cell_type": "code",
   "execution_count": 25,
   "id": "1cd9e51c",
   "metadata": {},
   "outputs": [],
   "source": [
    "# 21.\t How do you do data abstraction in Python?\n"
   ]
  },
  {
   "cell_type": "markdown",
   "id": "3a531a2a",
   "metadata": {},
   "source": [
    " Data Abstraction is providing only the required details and hiding the implementation from the world. It can be achieved in Python by using interfaces and abstract classes.\n"
   ]
  },
  {
   "cell_type": "code",
   "execution_count": 26,
   "id": "df9bb569",
   "metadata": {},
   "outputs": [],
   "source": [
    "# 22.\tWhat does an object() do?\n",
    "\n"
   ]
  },
  {
   "cell_type": "markdown",
   "id": "9e22257f",
   "metadata": {},
   "source": [
    "It returns a featureless object that is a base for all classes. Also, it does not take any parameters."
   ]
  },
  {
   "cell_type": "code",
   "execution_count": 27,
   "id": "af3bc6e0",
   "metadata": {},
   "outputs": [],
   "source": [
    "# 23.\tIs indentation required in python?\n"
   ]
  },
  {
   "cell_type": "markdown",
   "id": "ff9b6658",
   "metadata": {},
   "source": [
    "Indentation is necessary for Python. It specifies a block of code. All code within loops, classes, functions, etc is specified within an indented block. It is usually done using four space characters. If your code is not indented necessarily, it will not execute accurately and will throw errors as well.\n"
   ]
  },
  {
   "cell_type": "code",
   "execution_count": 28,
   "id": "e0221a1b",
   "metadata": {},
   "outputs": [],
   "source": [
    "# 24.\t.What are local variables and global variables in Python?\n",
    "\n",
    "\n"
   ]
  },
  {
   "cell_type": "markdown",
   "id": "be2699fa",
   "metadata": {},
   "source": [
    "Global Variables:\n",
    "Variables declared outside a function or in global space are called global variables. These variables can be accessed by any function in the program.\n",
    "Local Variables:\n",
    "Any variable declared inside a function is known as a local variable. This variable is present in the local space and not in the global space.\n",
    "\n"
   ]
  },
  {
   "cell_type": "code",
   "execution_count": 29,
   "id": "060a7723",
   "metadata": {},
   "outputs": [],
   "source": [
    "a=2\n",
    "def add():\n",
    "    b=3\n",
    "    c=a+b\n",
    "    print(c)\n",
    "    "
   ]
  },
  {
   "cell_type": "code",
   "execution_count": 30,
   "id": "64ce65bd",
   "metadata": {},
   "outputs": [
    {
     "name": "stdout",
     "output_type": "stream",
     "text": [
      "5\n"
     ]
    }
   ],
   "source": [
    "add()"
   ]
  },
  {
   "cell_type": "code",
   "execution_count": 31,
   "id": "d1aecf4f",
   "metadata": {},
   "outputs": [],
   "source": [
    "# 25.\tWhat is __init__?\n"
   ]
  },
  {
   "cell_type": "markdown",
   "id": "c347501f",
   "metadata": {},
   "source": [
    "__init__ is a method or constructor in Python. This method is automatically called to allocate memory when a new object/ instance of a class is created. All classes have the __init__ method\n"
   ]
  },
  {
   "cell_type": "code",
   "execution_count": 31,
   "id": "a84345dc",
   "metadata": {},
   "outputs": [
    {
     "name": "stdout",
     "output_type": "stream",
     "text": [
      "ajay\n",
      "2\n",
      "200000\n"
     ]
    }
   ],
   "source": [
    "class Employee:\n",
    "    def __init__(self, name, age,salary):\n",
    "        self.name = name\n",
    "        self.age = age\n",
    "        self.salary = salary\n",
    "E1 = Employee(\"ajay\", 2, 200000)\n",
    "print(E1.name)\n",
    "print(E1.age)\n",
    "print(E1.salary)\n"
   ]
  },
  {
   "cell_type": "code",
   "execution_count": 33,
   "id": "d2982091",
   "metadata": {},
   "outputs": [],
   "source": [
    "# 26.\tWhat is the difference between the tuple&list ?"
   ]
  },
  {
   "cell_type": "raw",
   "id": "748a3ec0",
   "metadata": {},
   "source": [
    "# List\n",
    "It is mutable\n",
    "The implication of iterations is time-consuming in the list.\n",
    "Operations like insertion and deletion are better performed.\n",
    "Consumes more memory.\n",
    "Many built-in methods are available.\n",
    "\n",
    "#Tuple\n",
    "It is immutable\n",
    "Implications of iterations are much faster in tuples.\n",
    "Elements can be accessed better.\n",
    "Consumes less memory.\n",
    "Does not have many built-in methods\n",
    "\n",
    "\n",
    "\n"
   ]
  },
  {
   "cell_type": "code",
   "execution_count": 34,
   "id": "b0b6c0a3",
   "metadata": {},
   "outputs": [],
   "source": [
    "#27.\tWhat is name space in python ?\n",
    "\n"
   ]
  },
  {
   "cell_type": "markdown",
   "id": "39eef0de",
   "metadata": {},
   "source": [
    "A namespace is a collection of currently defined symbolic names along with information about the object that each name references. You can think of a namespace as a dictionary in which the keys are the object names and the values are the objects themselves. Each\n",
    " \tthere are four types of namespaces:\n",
    "•\tBuilt-In\n",
    "•\tGlobal\n",
    "•\tEnclosing\n",
    "•\tLocal"
   ]
  },
  {
   "cell_type": "code",
   "execution_count": 35,
   "id": "f812fdd9",
   "metadata": {},
   "outputs": [],
   "source": [
    "#28.\tHow are arguments passed by value or by reference ?\n",
    "\n"
   ]
  },
  {
   "cell_type": "markdown",
   "id": "df61d1ee",
   "metadata": {},
   "source": [
    "All parameters (arguments) in the Python language are passed by reference. It means if you change what a parameter refers to within a function, the change also reflects back in the calling function.\n"
   ]
  },
  {
   "cell_type": "code",
   "execution_count": 36,
   "id": "363b1b71",
   "metadata": {},
   "outputs": [],
   "source": [
    "# 29.\tWhat is scope in python ? \n"
   ]
  },
  {
   "cell_type": "raw",
   "id": "0720e4ac",
   "metadata": {},
   "source": [
    "Variables can only reach the area in which they are defined, which is called scope. Think of it as the area of code where variables can be used. Python supports global variables (usable in the entire program) and local variables.\n",
    "•\tLocal scope\n",
    "•\tGlobal scope\n",
    "•\tModule level scope\n",
    "•\tOut most scope"
   ]
  },
  {
   "cell_type": "code",
   "execution_count": 37,
   "id": "c7d79911",
   "metadata": {},
   "outputs": [],
   "source": [
    "#30.\tWhat are the benfit of using python ?\n",
    "\n"
   ]
  },
  {
   "cell_type": "raw",
   "id": "93d2d542",
   "metadata": {},
   "source": [
    "Python is a high-level programming language that has English-like syntax. This makes it easier to read and understand the code.\n",
    "•\tIt is dynamically typed \n",
    "•\tIts free and open source \n",
    "•\t Vest libraries support\n",
    "•\tPortability "
   ]
  },
  {
   "cell_type": "code",
   "execution_count": 38,
   "id": "b1e85224",
   "metadata": {},
   "outputs": [],
   "source": [
    "# 31.\tDoes Python have OOps concepts?\n"
   ]
  },
  {
   "cell_type": "markdown",
   "id": "d4735471",
   "metadata": {},
   "source": [
    "Python is an object-oriented programming language. This means that any program can be solved in python by creating an object model. However, Python can be treated as a procedural as well as structural language.\n"
   ]
  },
  {
   "cell_type": "code",
   "execution_count": 39,
   "id": "1b4c9083",
   "metadata": {},
   "outputs": [],
   "source": [
    "#32.\tWhat is the use of self in python ?\n"
   ]
  },
  {
   "cell_type": "markdown",
   "id": "4872659c",
   "metadata": {},
   "source": [
    "The self is used to represent the instance of the class. With this keyword, you can access the attributes and methods of the class in python. It binds the attributes with the given arguments\n"
   ]
  },
  {
   "cell_type": "code",
   "execution_count": 40,
   "id": "11808b2a",
   "metadata": {},
   "outputs": [],
   "source": [
    "# 33.\tWhat  is break , continue and pass in python ?\n"
   ]
  },
  {
   "cell_type": "raw",
   "id": "6229b43e",
   "metadata": {},
   "source": [
    "BREAK\n",
    "\tA break statement, when used inside the loop, will terminate the loop and exit. If used inside nested loops, it will break       out from the current loop.\n",
    "CONTINUE\n",
    "\tA continue statement will stop the current execution when used inside a loop, and the control will go back to the start of     the loop\n",
    "PASS\n",
    "•\tThe pass statement is used as a placeholder for future code.\n",
    "•\tWhen the pass statement is executed, nothing happens, but you avoid getting an error when empty code is not allowed.\n",
    "•\tEmpty code is not allowed in loops, function definitions, class definitions, or in if statements.\n"
   ]
  },
  {
   "cell_type": "code",
   "execution_count": 41,
   "id": "e483a51b",
   "metadata": {},
   "outputs": [],
   "source": [
    "# 34.\tWhat is the difference between the arrays and list ?\n"
   ]
  },
  {
   "cell_type": "raw",
   "id": "b2cd411d",
   "metadata": {},
   "source": [
    "\n",
    "LIST\n",
    "\n",
    "Contains elements of different data types\n",
    "Explicitly importing module is not required to declare a list\n",
    "Cannot handle arithmetic operations\n",
    "Can be nested inside another list\n",
    "Mostly used in the shorter sequence of data elements\n",
    "\n",
    "ARRAY\n",
    "\n",
    "Contains elements of same data types\n",
    "Need to import the module explicitly to declare an array\n",
    "Can handle arithmetic operations\n",
    "Must contain all elements of the same size\n",
    "Mostly used in the longer sequence of data elements\n",
    "\n"
   ]
  },
  {
   "cell_type": "code",
   "execution_count": 42,
   "id": "03b54879",
   "metadata": {},
   "outputs": [],
   "source": [
    "# 35.\tWhat is the usage of help() and dir() function in Python?\n"
   ]
  },
  {
   "cell_type": "markdown",
   "id": "6b6bd399",
   "metadata": {},
   "source": [
    "Help() and dir() both functions are accessible from the Python interpreter and used for viewing a consolidated dump of built-in functions. \n",
    "•\tHelp() function: The help() function is used to display the documentation string and also facilitates you to see the help related to modules, keywords, attributes, etc.\n",
    "•\tDir() function: The dir() function is used to display the defined symbols.\n"
   ]
  },
  {
   "cell_type": "code",
   "execution_count": 43,
   "id": "c06d0347",
   "metadata": {},
   "outputs": [],
   "source": [
    "#36.\tWhat is the purpose of ‘is’, ‘not’ and ‘in’ operators?\n",
    "       \n"
   ]
  },
  {
   "cell_type": "raw",
   "id": "32975a84",
   "metadata": {},
   "source": [
    "\tOperators are special functions. They take one or more values and produce a corresponding result.\n",
    "is: returns true when 2 operands are true  (Example: “a” is ‘a’)\n",
    "not: returns the inverse of the boolean value\n",
    "in: checks if some element is present in some sequence"
   ]
  },
  {
   "cell_type": "code",
   "execution_count": 44,
   "id": "38c6763d",
   "metadata": {},
   "outputs": [],
   "source": [
    "# 37.\tHow do I modify a string in python?\n",
    "\n"
   ]
  },
  {
   "cell_type": "markdown",
   "id": "b28eca50",
   "metadata": {},
   "source": [
    "You can’t because strings are immutable in python. In most situations, you should simply construct a new string from the various parts you want to assemble it from. Work with them as lists; turn them into strings only when needed.\n"
   ]
  },
  {
   "cell_type": "code",
   "execution_count": 45,
   "id": "166b0341",
   "metadata": {},
   "outputs": [],
   "source": [
    "# 38.\tWhat is a Negative Index in Python ? \n",
    "\n"
   ]
  },
  {
   "cell_type": "markdown",
   "id": "496f33d5",
   "metadata": {},
   "source": [
    "Negative numbers mean that you count from the right instead of the left. So, list[-1] refers to the last element, list[-2] is the second-last, and so on.\n"
   ]
  },
  {
   "cell_type": "code",
   "execution_count": 46,
   "id": "9f7053e7",
   "metadata": {},
   "outputs": [],
   "source": [
    "# 39.\tWhat is swapcase() function in the Python?\n"
   ]
  },
  {
   "cell_type": "markdown",
   "id": "a0c75b27",
   "metadata": {},
   "source": [
    "It is a string's function which converts all uppercase characters into lowercase and vice versa. It is used to alter the existing case of the string. This method creates a copy of the string which contains all the characters in the swap case.\n"
   ]
  },
  {
   "cell_type": "code",
   "execution_count": 47,
   "id": "4f65af6c",
   "metadata": {},
   "outputs": [],
   "source": [
    "# 40. what is pip "
   ]
  },
  {
   "cell_type": "markdown",
   "id": "376236c9",
   "metadata": {},
   "source": [
    "pip is the de facto and recommended package-management system written in Python and is used to install and manage software packages. It connects to an online repository of public packages, called the Python Package Index"
   ]
  },
  {
   "cell_type": "code",
   "execution_count": 48,
   "id": "b3f5da2c",
   "metadata": {},
   "outputs": [],
   "source": [
    "# 41. What is an Expression?\n",
    "\n"
   ]
  },
  {
   "cell_type": "markdown",
   "id": "52682a9a",
   "metadata": {},
   "source": [
    " An expression Can be defined as a combination of variables, values operators a call to functions. It is a sequence of operands or operators like a + B – 5 is called an expression. Python supports many such operators for combining data object into an express."
   ]
  },
  {
   "cell_type": "code",
   "execution_count": 49,
   "id": "e6151cfc",
   "metadata": {},
   "outputs": [],
   "source": [
    "#42. what is shallow copy and deep copy"
   ]
  },
  {
   "cell_type": "raw",
   "id": "02ec6db8",
   "metadata": {},
   "source": [
    "SHALLOW COPY  – It is a bit-wise copy of an object. The copied object will have an exact replica of the values contained in the original object. If any of the values are references to other objects, only the reference addresses for the same will be copied.\n",
    "DEEP COPY — It copies all values recursively from source to target object, meaning, it will duplicate even the objects that are referenced by the source object."
   ]
  },
  {
   "cell_type": "code",
   "execution_count": 50,
   "id": "249ee3be",
   "metadata": {},
   "outputs": [],
   "source": [
    "# 43. How is Exceptional handling done in Python?\n",
    "\n"
   ]
  },
  {
   "cell_type": "markdown",
   "id": "f2622d10",
   "metadata": {},
   "source": [
    "Exceptional handling is extensively used in several python mini projects. Three blocks – try, except, and finally are used to catch the exceptions and accordingly manage the recovering mechanism. The try block contains codes that monitor errors. Except block executes when there is an error.  The final block executes the code after trying for the error. It is executed regardless of whether an error happened or not. All these blocks work together for exceptional handling in Python."
   ]
  },
  {
   "cell_type": "code",
   "execution_count": 51,
   "id": "9daf7a7b",
   "metadata": {},
   "outputs": [],
   "source": [
    "# 44 .what is the function"
   ]
  },
  {
   "cell_type": "markdown",
   "id": "87aaa381",
   "metadata": {},
   "source": [
    "Python Functions is a block of statements that return the specific task.\n",
    "\n",
    "The idea is to put some commonly or repeatedly done tasks together and make a function so that instead of writing the same code again and again for different inputs, we can do the function calls to reuse code contained in it over and over again. "
   ]
  },
  {
   "cell_type": "code",
   "execution_count": 52,
   "id": "5c08d1c1",
   "metadata": {},
   "outputs": [],
   "source": [
    "#45. what is map function in python"
   ]
  },
  {
   "cell_type": "markdown",
   "id": "b0c1aa3f",
   "metadata": {},
   "source": [
    "Map in Python is a function that works as an iterator to return a result after applying a function to every item of an iterable (tuple, lists, etc.). It is used when you want to apply a single transformation function to all the iterable elements. The iterable and function are passed as arguments to the map in Python"
   ]
  },
  {
   "cell_type": "code",
   "execution_count": 53,
   "id": "55fce47a",
   "metadata": {},
   "outputs": [],
   "source": [
    "# 46.what is type conversion in python"
   ]
  },
  {
   "cell_type": "raw",
   "id": "12662d0d",
   "metadata": {},
   "source": [
    "IMPLICT -- implict type conversion in this from of type conversion interpreter help in automatically converting the one data type to anther data type with out any user involvement\n",
    "EXPLICT -- explict type conversion  the data type in chenged into a required type by the user"
   ]
  },
  {
   "cell_type": "code",
   "execution_count": 54,
   "id": "f19b9772",
   "metadata": {},
   "outputs": [],
   "source": [
    "# 47.what do you understand by Tkinter"
   ]
  },
  {
   "cell_type": "markdown",
   "id": "cf79dcf8",
   "metadata": {},
   "source": [
    "Tkinter is the standard GUI library for Python. Python when combined with Tkinter provides a fast and easy way to create GUI applications. Tkinter provides a powerful object-oriented interface to the Tk GUI toolkit. Import the Tkinter module"
   ]
  },
  {
   "cell_type": "raw",
   "id": "1ccf2deb",
   "metadata": {},
   "source": [
    "for opening files they are three modes\n",
    "read only mode(r)\n",
    "write only mode(w)\n",
    "read-write mode(rw)"
   ]
  },
  {
   "cell_type": "code",
   "execution_count": 55,
   "id": "718e81bb",
   "metadata": {},
   "outputs": [],
   "source": [
    "# 48. What is multithreading in Python?\n",
    "\n"
   ]
  },
  {
   "cell_type": "markdown",
   "id": "0bb88d13",
   "metadata": {},
   "source": [
    "In Python, multithreading is the execution of two or more threads simultaneously. The program can be divided into multiple parts, and those parts execute concurrently to boost the performance, program speed, and memory space’s efficiency.  I"
   ]
  },
  {
   "cell_type": "code",
   "execution_count": 56,
   "id": "ed1bad98",
   "metadata": {},
   "outputs": [],
   "source": [
    "#49. . Differentiate between data abstraction and encapsulation."
   ]
  },
  {
   "cell_type": "markdown",
   "id": "7462b58b",
   "metadata": {},
   "source": [
    "Abstraction is a feature of OOPs that hides the unnecessary detail but shows the essential information.\tEncapsulation is also a feature of OOPs. It hides the code and data into a single entity or unit so that the data can be protected from the outside world.\n",
    "It solves an issue at the design level.\tEncapsulation solves an issue at implementation level.\n",
    "It focuses on the external lookout."
   ]
  },
  {
   "cell_type": "code",
   "execution_count": 57,
   "id": "059c0283",
   "metadata": {},
   "outputs": [],
   "source": [
    "# 50. What are some advantages of using OOPs?"
   ]
  },
  {
   "cell_type": "raw",
   "id": "a45ca622",
   "metadata": {},
   "source": [
    "OOPs is very helpful in solving very complex level of problems.\n",
    "Highly complex programs can be created, handled, and maintained easily using object-oriented programming.\n",
    "OOPs, promote code reuse, thereby reducing redundancy.\n",
    "OOPs also helps to hide the unnecessary details with the help of Data Abstraction."
   ]
  },
  {
   "cell_type": "code",
   "execution_count": 58,
   "id": "c64a885e",
   "metadata": {},
   "outputs": [],
   "source": [
    "# 51. what is class"
   ]
  },
  {
   "cell_type": "markdown",
   "id": "c8899b0b",
   "metadata": {},
   "source": [
    "\n",
    "A class can be understood as a template or a blueprint, which contains some values, known as member data or member, and some set of rules, known as behaviors or functions. So when an object is created, it automatically takes the data and functions that are defined in the class."
   ]
  },
  {
   "cell_type": "code",
   "execution_count": 59,
   "id": "34462d4e",
   "metadata": {},
   "outputs": [],
   "source": [
    "# 52 . what is object"
   ]
  },
  {
   "cell_type": "markdown",
   "id": "8ef329c1",
   "metadata": {},
   "source": [
    "\n",
    "An object refers to the instance of the class, which contains the instance of the members and behaviors defined in the class template. In the real world, an object is an actual entity to which a user interacts, whereas class is just the blueprint for that object. So the objects consume space and have some characteristic behavior"
   ]
  },
  {
   "cell_type": "code",
   "execution_count": 60,
   "id": "d1c8d3d2",
   "metadata": {},
   "outputs": [],
   "source": [
    "#53. What is the difference between overloading and overriding?"
   ]
  },
  {
   "cell_type": "markdown",
   "id": "c14b9931",
   "metadata": {},
   "source": [
    "\n",
    "Overloading is a compile-time polymorphism feature in which an entity has multiple implementations with the same name. For example, Method overloading and Operator overloading.\n",
    "\n",
    "Whereas Overriding is a runtime polymorphism feature in which an entity has the same name, but its implementation changes during execution. For example, Method overriding."
   ]
  },
  {
   "cell_type": "code",
   "execution_count": 61,
   "id": "d71bf784",
   "metadata": {},
   "outputs": [],
   "source": [
    "#54 What is a superclass and sub classes?\n",
    "\n"
   ]
  },
  {
   "cell_type": "markdown",
   "id": "77c3060a",
   "metadata": {},
   "source": [
    "A superclass or base class is a class that acts as a parent to some other class or classes. For example, the Vehicle class is a superclass of class Car.A class that inherits from another class is called the subclass. For example, the class Car is a subclass or a derived of Vehicle class.\n"
   ]
  },
  {
   "cell_type": "code",
   "execution_count": 62,
   "id": "88d0edaf",
   "metadata": {},
   "outputs": [],
   "source": [
    "# 55. write a program in python excute the bubble sort alogorithem"
   ]
  },
  {
   "cell_type": "code",
   "execution_count": 63,
   "id": "7eb6c2ef",
   "metadata": {},
   "outputs": [
    {
     "data": {
      "text/plain": [
       "[1, 3, 7, 9, 55, 68, 84]"
      ]
     },
     "execution_count": 63,
     "metadata": {},
     "output_type": "execute_result"
    }
   ],
   "source": [
    "a=[1,55,7,84,68,9,3]\n",
    "a.sort()\n",
    "a"
   ]
  },
  {
   "cell_type": "code",
   "execution_count": 64,
   "id": "d69909c2",
   "metadata": {},
   "outputs": [],
   "source": [
    "# 56. write a program in python to procedure star triangle"
   ]
  },
  {
   "cell_type": "code",
   "execution_count": 1,
   "id": "324cf25a",
   "metadata": {},
   "outputs": [
    {
     "name": "stdout",
     "output_type": "stream",
     "text": [
      "Enter number of rows: 10\n",
      "                  * \n",
      "                * * * \n",
      "              * * * * * \n",
      "            * * * * * * * \n",
      "          * * * * * * * * * \n",
      "        * * * * * * * * * * * \n",
      "      * * * * * * * * * * * * * \n",
      "    * * * * * * * * * * * * * * * \n",
      "  * * * * * * * * * * * * * * * * * \n",
      "* * * * * * * * * * * * * * * * * * * \n"
     ]
    }
   ],
   "source": [
    "rows = int(input(\"Enter number of rows: \"))\n",
    "\n",
    "k = 0\n",
    "\n",
    "for i in range(1, rows+1):\n",
    "    for space in range(1, (rows-i)+1):\n",
    "        print(end=\"  \")\n",
    "   \n",
    "    while k!=(2*i-1):\n",
    "        print(\"* \", end=\"\")\n",
    "        k += 1\n",
    "   \n",
    "    k = 0\n",
    "    print()"
   ]
  },
  {
   "cell_type": "code",
   "execution_count": 82,
   "id": "ec54962b",
   "metadata": {},
   "outputs": [],
   "source": [
    "# 57.write a program in python to check if a number is prime or not"
   ]
  },
  {
   "cell_type": "code",
   "execution_count": 3,
   "id": "301c3214",
   "metadata": {},
   "outputs": [
    {
     "name": "stdout",
     "output_type": "stream",
     "text": [
      "11\n",
      "this not prime number\n"
     ]
    }
   ],
   "source": [
    "x=int(input())\n",
    "if x%2==0:\n",
    "    print(\"this prime number\")\n",
    "else:\n",
    "    print(\"this not prime number\")"
   ]
  },
  {
   "cell_type": "code",
   "execution_count": 4,
   "id": "4ca7a681",
   "metadata": {},
   "outputs": [],
   "source": [
    "#58.write a program in python to check if sequence is a palindrome"
   ]
  },
  {
   "cell_type": "code",
   "execution_count": 5,
   "id": "f0aef6f2",
   "metadata": {},
   "outputs": [
    {
     "name": "stdout",
     "output_type": "stream",
     "text": [
      "22\n",
      "this is palindrom\n"
     ]
    }
   ],
   "source": [
    "b=input()\n",
    "if b==b[::-1]:\n",
    "    print(\"this is palindrom\")\n",
    "else:\n",
    "     print(\"this is not palindrom\")"
   ]
  },
  {
   "cell_type": "code",
   "execution_count": 6,
   "id": "8937ace4",
   "metadata": {},
   "outputs": [],
   "source": [
    "#59. write a program to reverce an integer"
   ]
  },
  {
   "cell_type": "code",
   "execution_count": 8,
   "id": "c669d273",
   "metadata": {},
   "outputs": [
    {
     "name": "stdout",
     "output_type": "stream",
     "text": [
      "5451245452\n",
      "2545421545\n"
     ]
    }
   ],
   "source": [
    "num=int(input())\n",
    "rev=0\n",
    "while(num>0):\n",
    "    remi=num%10\n",
    "    rev=(rev*10)+remi\n",
    "    num=num//10\n",
    "print(rev)"
   ]
  },
  {
   "cell_type": "code",
   "execution_count": 88,
   "id": "f4299f03",
   "metadata": {},
   "outputs": [],
   "source": [
    "# 60. write program in python to print the fibanacci series"
   ]
  },
  {
   "cell_type": "code",
   "execution_count": 1,
   "id": "9b0a49a4",
   "metadata": {},
   "outputs": [
    {
     "name": "stdout",
     "output_type": "stream",
     "text": [
      "Enter the number of terms in the sequence: 10\n",
      "0 1 1 2 3 5 8 13 21 34 "
     ]
    }
   ],
   "source": [
    "a = 0\n",
    "b = 1\n",
    "n=int(input(\"Enter the number of terms in the sequence: \"))\n",
    "print(a,b,end=\" \")\n",
    "while(n-2):\n",
    "    c=a+b\n",
    "    a,b = b,c\n",
    "    print(c,end=\" \")\n",
    "    n=n-1"
   ]
  },
  {
   "cell_type": "code",
   "execution_count": 3,
   "id": "fce92250",
   "metadata": {},
   "outputs": [],
   "source": [
    "# 61. write a program in python to find greatest among three integers\n"
   ]
  },
  {
   "cell_type": "code",
   "execution_count": 4,
   "id": "395dd80d",
   "metadata": {},
   "outputs": [
    {
     "name": "stdout",
     "output_type": "stream",
     "text": [
      "1113\n",
      "45\n",
      "514521\n",
      "c is greatest\n"
     ]
    }
   ],
   "source": [
    "a=int(input())\n",
    "b=int(input())\n",
    "c=int(input())\n",
    "if a>=b and a>=c:\n",
    "        print(\"a is greatest\")\n",
    "elif b>=a and b>=c: \n",
    "    print(\"b is greatest\") \n",
    "elif c>=b and c>=a:\n",
    "    print(\"c is greatest\")    \n",
    "    \n",
    " "
   ]
  },
  {
   "cell_type": "code",
   "execution_count": 5,
   "id": "71dcc82e",
   "metadata": {},
   "outputs": [],
   "source": [
    "#62. find sum of digits of numbers ?"
   ]
  },
  {
   "cell_type": "code",
   "execution_count": 6,
   "id": "3058e75f",
   "metadata": {},
   "outputs": [],
   "source": [
    "numbers=[2,5,8,4,3,8]\n",
    "def sum_1(numbers):\n",
    "    total = 0\n",
    "    for x in numbers:\n",
    "        total = x+total\n",
    "    print(total)  \n"
   ]
  },
  {
   "cell_type": "code",
   "execution_count": 7,
   "id": "2ece10ca",
   "metadata": {},
   "outputs": [
    {
     "name": "stdout",
     "output_type": "stream",
     "text": [
      "30\n"
     ]
    }
   ],
   "source": [
    "sum_1(numbers)"
   ]
  },
  {
   "cell_type": "code",
   "execution_count": 8,
   "id": "8ede44eb",
   "metadata": {},
   "outputs": [],
   "source": [
    "# 63.write python program to swap two numbers with out using third variable"
   ]
  },
  {
   "cell_type": "code",
   "execution_count": 9,
   "id": "2ec47871",
   "metadata": {},
   "outputs": [],
   "source": [
    "X= 25 \n",
    "Y= 23 \n",
    "\n",
    "X = X + Y\n",
    "Y = X - Y \n",
    "X = X -Y "
   ]
  },
  {
   "cell_type": "code",
   "execution_count": 10,
   "id": "97da4365",
   "metadata": {},
   "outputs": [
    {
     "data": {
      "text/plain": [
       "23"
      ]
     },
     "execution_count": 10,
     "metadata": {},
     "output_type": "execute_result"
    }
   ],
   "source": [
    "X"
   ]
  },
  {
   "cell_type": "code",
   "execution_count": 11,
   "id": "fc6f14ac",
   "metadata": {},
   "outputs": [
    {
     "data": {
      "text/plain": [
       "25"
      ]
     },
     "execution_count": 11,
     "metadata": {},
     "output_type": "execute_result"
    }
   ],
   "source": [
    "Y"
   ]
  },
  {
   "cell_type": "code",
   "execution_count": 12,
   "id": "752ea2ae",
   "metadata": {},
   "outputs": [],
   "source": [
    "#64. write a python program character  is vowel or constant"
   ]
  },
  {
   "cell_type": "code",
   "execution_count": 13,
   "id": "0f686f79",
   "metadata": {},
   "outputs": [
    {
     "name": "stdout",
     "output_type": "stream",
     "text": [
      "\n",
      "given character is constant\n"
     ]
    }
   ],
   "source": [
    "df=input()\n",
    "if df==(\"a\",\"e\",\"i\",\"o\",\"u\"):\n",
    "    print(\"given character is vowel\")\n",
    "else:\n",
    "    print(\"given character is constant\")\n"
   ]
  },
  {
   "cell_type": "code",
   "execution_count": 14,
   "id": "bd597623",
   "metadata": {},
   "outputs": [],
   "source": [
    "# 65 . Write a Python program to check leap year"
   ]
  },
  {
   "cell_type": "code",
   "execution_count": 22,
   "id": "5c978453",
   "metadata": {},
   "outputs": [
    {
     "name": "stdout",
     "output_type": "stream",
     "text": [
      "Enter the year : 1221\n",
      "The given Year is not a leap year\n"
     ]
    }
   ],
   "source": [
    "Year = int(input(\"Enter the year : \")) \n",
    "def LeapYear(Year):  \n",
    "    if((Year % 400 == 0) or  (Year % 100 != 0) and  (Year % 4 == 0)):\n",
    "        print(\"The given Year is a leap year\"); \n",
    "    else:\n",
    "        print (\"The given Year is not a leap year\") \n",
    "            \n",
    "\n",
    "LeapYear(Year)\n"
   ]
  },
  {
   "cell_type": "code",
   "execution_count": null,
   "id": "6aa04b00",
   "metadata": {},
   "outputs": [],
   "source": [
    "#66. Write a Python program to print all prime numbers in an interval."
   ]
  },
  {
   "cell_type": "code",
   "execution_count": 28,
   "id": "b2c81366",
   "metadata": {},
   "outputs": [
    {
     "name": "stdout",
     "output_type": "stream",
     "text": [
      "1\n",
      "5\n",
      "1\n",
      "2\n",
      "3\n"
     ]
    }
   ],
   "source": [
    "\n",
    "lower = int(input())\n",
    "upper = int(input())\n",
    "for num in range(lower, upper + 1):\n",
    "    if (num % i) == 0:\n",
    "        break\n",
    "    else:\n",
    "        print(num)"
   ]
  },
  {
   "cell_type": "code",
   "execution_count": 29,
   "id": "18528442",
   "metadata": {},
   "outputs": [],
   "source": [
    "# 67. What’s the Output of this Python Namespace program?\n"
   ]
  },
  {
   "cell_type": "code",
   "execution_count": 30,
   "id": "7213c468",
   "metadata": {},
   "outputs": [
    {
     "name": "stdout",
     "output_type": "stream",
     "text": [
      "num = 30\n",
      "num = 20\n",
      "num = 10\n"
     ]
    }
   ],
   "source": [
    "\n",
    "\n",
    "def function():\n",
    "    num = 20\n",
    "\n",
    "    def function_1():\n",
    "        num = 30\n",
    "        print('num =', num)\n",
    "\n",
    "    function_1()\n",
    "    print('num =', num)\n",
    "\n",
    "\n",
    "num = 10\n",
    "function()\n",
    "print('num =', num)\n"
   ]
  },
  {
   "cell_type": "code",
   "execution_count": 116,
   "id": "51e28a39",
   "metadata": {},
   "outputs": [],
   "source": [
    "#68  how to create polymorism  class in python"
   ]
  },
  {
   "cell_type": "code",
   "execution_count": 22,
   "id": "6b6a6fa2",
   "metadata": {},
   "outputs": [
    {
     "name": "stdout",
     "output_type": "stream",
     "text": [
      "I am a dog. My name isFluffyI am 4years old\n"
     ]
    }
   ],
   "source": [
    "class Cat:\n",
    "    def __init__(self, name, age):\n",
    "        self.name = name\n",
    "        self.age = age\n",
    "\n",
    "    def info(self):\n",
    "        print(f\"I am a cat. My name is {self.name}. I am {self.age} years old.\")\n",
    "\n",
    "    def make_sound(self):\n",
    "        print(\"Meow\")\n",
    "\n",
    "\n",
    "class Dog:\n",
    "    def __init__(self, name, age):\n",
    "        self.name = name\n",
    "        self.age = age\n",
    "\n",
    "    def info(self):\n",
    "        print(\"I am a dog. My name is\" + self.name +\"I am \"+self.age+ \"years old\")\n",
    "\n",
    "    def make_sound(self):\n",
    "        print(\"Bark\")\n",
    "\n",
    "\n",
    "cat1 = Cat(\"Kitty\", \"2.5\")\n",
    "dog1 = Dog(\"Fluffy\", \"4\")\n",
    "cat1.name\n",
    "dog1.name\n",
    "dog1.info()\n",
    "\n",
    "\n"
   ]
  },
  {
   "cell_type": "code",
   "execution_count": 117,
   "id": "9c335df3",
   "metadata": {},
   "outputs": [],
   "source": [
    "#69 How to invoke the super constructor in Python?"
   ]
  },
  {
   "cell_type": "code",
   "execution_count": 2,
   "id": "e91a8da7",
   "metadata": {},
   "outputs": [
    {
     "name": "stdout",
     "output_type": "stream",
     "text": [
      "Yes I can fly\n"
     ]
    }
   ],
   "source": [
    "class A:                           \n",
    "    def __init__(self,data):\n",
    "        self.data=data\n",
    "        \n",
    "    def fly(self):\n",
    "        print(\"Yes I can fly\")\n",
    "        \n",
    "\n",
    "class B(A):                     \n",
    "    def __init__(self,s):\n",
    "        self.s=s\n",
    "        \n",
    "        \n",
    "        \n",
    "b = B(\"ajay\")      \n",
    "\n",
    "b.fly()"
   ]
  },
  {
   "cell_type": "code",
   "execution_count": 3,
   "id": "2f9176d3",
   "metadata": {},
   "outputs": [],
   "source": [
    "#70 Can you write a program to find the average of numbers in a list in Python?\n",
    "\n"
   ]
  },
  {
   "cell_type": "code",
   "execution_count": 4,
   "id": "86c309de",
   "metadata": {},
   "outputs": [
    {
     "name": "stdout",
     "output_type": "stream",
     "text": [
      "Average of the list = 35.75\n"
     ]
    }
   ],
   "source": [
    "def Average(lst):\n",
    "    return sum(lst) / len(lst)\n",
    "lst = [15, 9, 55, 41, 35, 20, 62, 49]\n",
    "average = Average(lst)\n",
    "print(\"Average of the list =\", average)"
   ]
  },
  {
   "cell_type": "code",
   "execution_count": 5,
   "id": "5f96dd60",
   "metadata": {},
   "outputs": [],
   "source": [
    "#71. Write a Python Program to Count the Number of Digits in a Number?"
   ]
  },
  {
   "cell_type": "code",
   "execution_count": 8,
   "id": "86d6edff",
   "metadata": {},
   "outputs": [
    {
     "name": "stdout",
     "output_type": "stream",
     "text": [
      "Enter number:55\n",
      "The number of digits in the number is: 2\n"
     ]
    }
   ],
   "source": [
    "n=int(input(\"Enter number:\"))\n",
    "count=0\n",
    "while(n>0):\n",
    "    count=count+1\n",
    "    n=n//10\n",
    "print(\"The number of digits in the number is:\",count)"
   ]
  },
  {
   "cell_type": "code",
   "execution_count": 10,
   "id": "cb719557",
   "metadata": {},
   "outputs": [],
   "source": [
    "#72. Write a Python Program to Print Table of a Given Number?\n",
    "\n"
   ]
  },
  {
   "cell_type": "code",
   "execution_count": 11,
   "id": "09a33b81",
   "metadata": {},
   "outputs": [
    {
     "name": "stdout",
     "output_type": "stream",
     "text": [
      "Enter the number of your choice to print the multiplication table: 22\n",
      "The Multiplication Table of:  22\n",
      "22 x 1 = 22\n",
      "22 x 2 = 44\n",
      "22 x 3 = 66\n",
      "22 x 4 = 88\n",
      "22 x 5 = 110\n",
      "22 x 6 = 132\n",
      "22 x 7 = 154\n",
      "22 x 8 = 176\n",
      "22 x 9 = 198\n",
      "22 x 10 = 220\n"
     ]
    }
   ],
   "source": [
    "\n",
    "tab_number = int(input (\"Enter the number of your choice to print the multiplication table: \"))         \n",
    "print (\"The Multiplication Table of: \", tab_number)    \n",
    "for count in range(1, 11):\n",
    "    \n",
    "    print (tab_number, 'x', count, '=', tab_number * count) "
   ]
  },
  {
   "cell_type": "code",
   "execution_count": 123,
   "id": "2aaa338c",
   "metadata": {},
   "outputs": [],
   "source": [
    "#73.Write a program in Python to count lower, upper, numeric and special characters in a string."
   ]
  },
  {
   "cell_type": "code",
   "execution_count": null,
   "id": "05bb7589",
   "metadata": {},
   "outputs": [],
   "source": [
    "x=input(\"enter your word\")\n",
    "z=0\n",
    "l=0\n",
    "u=0\n",
    "n=0\n",
    "for i in range(len(x)):\n",
    "    if x[i].islower():\n",
    "        l=l+1\n",
    "    elif x[i].isupper():\n",
    "         u=u+1\n",
    "    elif x[i].isalnum():\n",
    "         n=n+1\n",
    "    else:\n",
    "        z=z+1\n",
    "print(\"special:\",z)\n",
    "print(\"lower:\",l)\n",
    "print('upper:',u)\n",
    "print(\"numeric:\",n)"
   ]
  },
  {
   "cell_type": "code",
   "execution_count": 124,
   "id": "751ee026",
   "metadata": {},
   "outputs": [],
   "source": [
    "#74.  Write a Python Program to Find the Second Largest Number in a List?"
   ]
  },
  {
   "cell_type": "code",
   "execution_count": null,
   "id": "bbe0a4c7",
   "metadata": {},
   "outputs": [],
   "source": [
    "a=[]\n",
    "n=int(input(\"Enter number of elements:\"))\n",
    "for i in range(1,n+1):\n",
    "b=int(input(\"Enter element:\"))\n",
    "a.append(b)\n",
    "a.sort()\n",
    "print(\"Second largest element is:\",a[n-2])"
   ]
  },
  {
   "cell_type": "code",
   "execution_count": 125,
   "id": "97334468",
   "metadata": {},
   "outputs": [],
   "source": [
    "#75.  Write a Python program to count the number of characters (character frequency) in a string"
   ]
  },
  {
   "cell_type": "code",
   "execution_count": 20,
   "id": "3b818aa6",
   "metadata": {},
   "outputs": [
    {
     "name": "stdout",
     "output_type": "stream",
     "text": [
      "{'g': 2, 'o': 3, 'l': 1, 'e': 1, '.': 1, 'c': 1, 'm': 1}\n"
     ]
    }
   ],
   "source": [
    "def frequency(str1):\n",
    "    dict = {}\n",
    "    for n in str1:\n",
    "        keys = dict.keys()\n",
    "        if n in keys:\n",
    "            dict[n] += 1\n",
    "        else:\n",
    "            dict[n] = 1\n",
    "    return dict\n",
    "print(x)"
   ]
  },
  {
   "cell_type": "code",
   "execution_count": 21,
   "id": "b071f291",
   "metadata": {},
   "outputs": [],
   "source": [
    "#76.  Write a program which will find all such numbers which are divisible by 7 but are not a multiple of 5"
   ]
  },
  {
   "cell_type": "code",
   "execution_count": 13,
   "id": "44f2ba68",
   "metadata": {},
   "outputs": [
    {
     "name": "stdout",
     "output_type": "stream",
     "text": [
      "['2002', '2009', '2016', '2023', '2037', '2044', '2051', '2058', '2072', '2079', '2086', '2093', '2107', '2114', '2121', '2128', '2142', '2149', '2156', '2163', '2177', '2184', '2191', '2198', '2212', '2219', '2226', '2233', '2247', '2254', '2261', '2268', '2282', '2289', '2296', '2303', '2317', '2324', '2331', '2338', '2352', '2359', '2366', '2373', '2387', '2394', '2401', '2408', '2422', '2429', '2436', '2443', '2457', '2464', '2471', '2478', '2492', '2499', '2506', '2513', '2527', '2534', '2541', '2548', '2562', '2569', '2576', '2583', '2597', '2604', '2611', '2618', '2632', '2639', '2646', '2653', '2667', '2674', '2681', '2688', '2702', '2709', '2716', '2723', '2737', '2744', '2751', '2758', '2772', '2779', '2786', '2793', '2807', '2814', '2821', '2828', '2842', '2849', '2856', '2863', '2877', '2884', '2891', '2898', '2912', '2919', '2926', '2933', '2947', '2954', '2961', '2968', '2982', '2989', '2996', '3003', '3017', '3024', '3031', '3038', '3052', '3059', '3066', '3073', '3087', '3094', '3101', '3108', '3122', '3129', '3136', '3143', '3157', '3164', '3171', '3178', '3192', '3199']\n"
     ]
    }
   ],
   "source": [
    "l=[]\n",
    "for i in range(2000, 3201):\n",
    "    if (i%7==0) and (i%5!=0):\n",
    "        l.append(str(i))\n",
    "\n",
    "print(l)"
   ]
  },
  {
   "cell_type": "code",
   "execution_count": 127,
   "id": "6f721af4",
   "metadata": {},
   "outputs": [],
   "source": [
    "#77.Write a Python factorial program without using if-else, for, and ternary operators."
   ]
  },
  {
   "cell_type": "code",
   "execution_count": 28,
   "id": "61792bce",
   "metadata": {},
   "outputs": [
    {
     "name": "stdout",
     "output_type": "stream",
     "text": [
      "Please enter a number to find the factorial: 10\n",
      "The factorial of the given number 10 is 3628800\n"
     ]
    }
   ],
   "source": [
    "import math\n",
    "def factorial(num):\n",
    "    return(math.factorial(num))\n",
    "num = int(input('Please enter a number to find the factorial: '))\n",
    "print(\"The factorial of the given number\", num, \"is\",\n",
    "    factorial(num))"
   ]
  },
  {
   "cell_type": "code",
   "execution_count": 27,
   "id": "fb2518e1",
   "metadata": {},
   "outputs": [],
   "source": [
    "#78. Define a property that must have the same value for every class instance (object)\n"
   ]
  },
  {
   "cell_type": "code",
   "execution_count": 50,
   "id": "f3d3dcf7",
   "metadata": {},
   "outputs": [
    {
     "name": "stdout",
     "output_type": "stream",
     "text": [
      "bangulur winner 1 12\n",
      "bangulur SPVM 240 18\n"
     ]
    }
   ],
   "source": [
    "class school:\n",
    "    place = \"bangulur\"\n",
    "    def __init__(self, name, school_id, rank):\n",
    "        self.name = name\n",
    "        self.school_id = school_id\n",
    "        self.rank = rank\n",
    "\n",
    "class college(school):\n",
    "    pass\n",
    "\n",
    "class institute(school):\n",
    "    pass\n",
    "\n",
    "WD = institute(\"winner\", 1, 12)\n",
    "print(WD.place, WD.name, WD.school_id,  WD.rank)\n",
    "\n",
    "WD_1 = college(\"SPVM\", 240, 18)\n",
    "print(WD_1.place, WD_1.name, WD_1.school_id, WD_1.rank)"
   ]
  },
  {
   "cell_type": "code",
   "execution_count": 51,
   "id": "d59ceb8e",
   "metadata": {},
   "outputs": [],
   "source": [
    "#79. Create a Bus child class that inherits from the Vehicle class. The default fare charge of any vehicle is seating capacity * 100. If Vehicle is Bus instance, we need to add an extra 10% on full fare as a maintenance charge. So total fare for bus instance will become the final amount = total fare + 10% of the total fare."
   ]
  },
  {
   "cell_type": "code",
   "execution_count": 52,
   "id": "3e6be25f",
   "metadata": {},
   "outputs": [
    {
     "name": "stdout",
     "output_type": "stream",
     "text": [
      "Total Bus fare is: 5500.0\n"
     ]
    }
   ],
   "source": [
    "class Vehicle:\n",
    "    def __init__(self, name, mileage, capacity):\n",
    "        self.name = name\n",
    "        self.mileage = mileage\n",
    "        self.capacity = capacity\n",
    "\n",
    "    def fare(self):\n",
    "        return self.capacity * 100\n",
    "\n",
    "class Bus(Vehicle):\n",
    "    def fare(self):\n",
    "        amount = super().fare()\n",
    "        amount += amount * 10 / 100\n",
    "        return amount\n",
    "\n",
    "School_bus = Bus(\"School Volvo\", 12, 50)\n",
    "print(\"Total Bus fare is:\", School_bus.fare())\n"
   ]
  },
  {
   "cell_type": "code",
   "execution_count": 53,
   "id": "33936673",
   "metadata": {},
   "outputs": [],
   "source": [
    "# 80.Write a program to determine which class a given Bus object belongs to"
   ]
  },
  {
   "cell_type": "code",
   "execution_count": 54,
   "id": "5f3c8f19",
   "metadata": {},
   "outputs": [
    {
     "data": {
      "text/plain": [
       "'School Volvo'"
      ]
     },
     "execution_count": 54,
     "metadata": {},
     "output_type": "execute_result"
    }
   ],
   "source": [
    "class Vehicle:\n",
    "    def __init__(self, name, mileage, capacity):\n",
    "        self.name = name\n",
    "        self.mileage = mileage\n",
    "        self.capacity = capacity\n",
    "\n",
    "class Bus(Vehicle):\n",
    "    pass\n",
    "\n",
    "School_bus = Bus(\"School Volvo\", 12, 50)\n",
    "School_bus.name\n"
   ]
  },
  {
   "cell_type": "code",
   "execution_count": 55,
   "id": "af0c1f1f",
   "metadata": {},
   "outputs": [],
   "source": [
    "# 81.Write a Python program which iterates the integers from 1 to 50. For multiples of three print \"Fizz\" instead of the number and for the multiples of five print \"Buzz\". For numbers which are multiples of both three and five print \"FizzBuzz\""
   ]
  },
  {
   "cell_type": "code",
   "execution_count": 56,
   "id": "ae28b450",
   "metadata": {},
   "outputs": [
    {
     "name": "stdout",
     "output_type": "stream",
     "text": [
      "fizzbuzz\n",
      "1\n",
      "2\n",
      "fizz\n",
      "4\n",
      "buzz\n",
      "fizz\n",
      "7\n",
      "8\n",
      "fizz\n",
      "buzz\n",
      "11\n",
      "fizz\n",
      "13\n",
      "14\n",
      "fizzbuzz\n",
      "16\n",
      "17\n",
      "fizz\n",
      "19\n",
      "buzz\n",
      "fizz\n",
      "22\n",
      "23\n",
      "fizz\n",
      "buzz\n",
      "26\n",
      "fizz\n",
      "28\n",
      "29\n",
      "fizzbuzz\n",
      "31\n",
      "32\n",
      "fizz\n",
      "34\n",
      "buzz\n",
      "fizz\n",
      "37\n",
      "38\n",
      "fizz\n",
      "buzz\n",
      "41\n",
      "fizz\n",
      "43\n",
      "44\n",
      "fizzbuzz\n",
      "46\n",
      "47\n",
      "fizz\n",
      "49\n",
      "buzz\n"
     ]
    }
   ],
   "source": [
    "\n",
    "for fizzbuzz in range(51):\n",
    "    if fizzbuzz % 3 == 0 and fizzbuzz % 5 == 0:\n",
    "        print(\"fizzbuzz\")\n",
    "        continue\n",
    "    elif fizzbuzz % 3 == 0:\n",
    "        print(\"fizz\")\n",
    "        continue\n",
    "    elif fizzbuzz % 5 == 0:\n",
    "        print(\"buzz\")\n",
    "        continue\n",
    "    print(fizzbuzz)\n",
    "\n"
   ]
  },
  {
   "cell_type": "code",
   "execution_count": null,
   "id": "a305720a",
   "metadata": {},
   "outputs": [],
   "source": []
  },
  {
   "cell_type": "code",
   "execution_count": null,
   "id": "28ca4e68",
   "metadata": {},
   "outputs": [],
   "source": []
  },
  {
   "cell_type": "code",
   "execution_count": 135,
   "id": "5f729c3c",
   "metadata": {},
   "outputs": [],
   "source": [
    "#82 . Calculate the sum of all numbers from 1 to a given number"
   ]
  },
  {
   "cell_type": "code",
   "execution_count": 58,
   "id": "552bb796",
   "metadata": {},
   "outputs": [
    {
     "name": "stdout",
     "output_type": "stream",
     "text": [
      "Enter number 455\n",
      "Sum is:  103740\n"
     ]
    }
   ],
   "source": [
    "\n",
    "s = 0\n",
    "n = int(input(\"Enter number \"))\n",
    "for i in range(1, n + 1, 1):\n",
    "    s += i\n",
    "print(\"Sum is: \", s)\n"
   ]
  },
  {
   "cell_type": "code",
   "execution_count": 59,
   "id": "d4d56f1d",
   "metadata": {},
   "outputs": [],
   "source": [
    "# 83. Print the following pattern\n",
    "# * \n",
    "# * * \n",
    "# * * * \n",
    "# * * * * \n",
    "# * * * * * \n",
    "# * * * * \n",
    "# * * * \n",
    "# * * \n",
    "# *"
   ]
  },
  {
   "cell_type": "code",
   "execution_count": 61,
   "id": "5603b539",
   "metadata": {},
   "outputs": [
    {
     "name": "stdout",
     "output_type": "stream",
     "text": [
      "* \r\n",
      "* * \r\n",
      "* * * \r\n",
      "* * * * \r\n",
      "* * * * * \r\n",
      "* * * * \r\n",
      "* * * \r\n",
      "* * \r\n",
      "* \r\n",
      "\r\n"
     ]
    }
   ],
   "source": [
    "rows = 5\n",
    "for i in range(0, rows):\n",
    "    for j in range(0, i + 1):\n",
    "        print(\"*\", end=' ')\n",
    "    print(\"\\r\")\n",
    "\n",
    "for i in range(rows, 0, -1):\n",
    "    for j in range(0, i - 1):\n",
    "        print(\"*\", end=' ')\n",
    "    print(\"\\r\")"
   ]
  },
  {
   "cell_type": "code",
   "execution_count": 62,
   "id": "ce992ecb",
   "metadata": {},
   "outputs": [],
   "source": [
    "#84. Find the average of an unknown number of inputs in Python"
   ]
  },
  {
   "cell_type": "code",
   "execution_count": 64,
   "id": "cec305e5",
   "metadata": {},
   "outputs": [
    {
     "name": "stdout",
     "output_type": "stream",
     "text": [
      "2.0\n",
      "5.0\n"
     ]
    }
   ],
   "source": [
    "def avgfun(*n):\n",
    "    sums = 0\n",
    " \n",
    "    for t in n:\n",
    "        sums = sums + t\n",
    " \n",
    "    avg = sums / len(n)\n",
    "    return avg\n",
    "result1 = avgfun(1, 2, 3)\n",
    "result2 = avgfun(2, 6, 4, 8)\n",
    "print(round(result1, 2))\n",
    "print(round(result2, 2))"
   ]
  },
  {
   "cell_type": "code",
   "execution_count": 141,
   "id": "f0427ea6",
   "metadata": {},
   "outputs": [],
   "source": [
    "# 85. Write a program, which will find all such numbers between 1000 and 3000 (both included) such that each digit of the number is an even number."
   ]
  },
  {
   "cell_type": "code",
   "execution_count": 144,
   "id": "379a0c3e",
   "metadata": {},
   "outputs": [
    {
     "name": "stdout",
     "output_type": "stream",
     "text": [
      "['2000', '2002', '2004', '2006', '2008', '2020', '2022', '2024', '2026', '2028', '2040', '2042', '2044', '2046', '2048', '2060', '2062', '2064', '2066', '2068', '2080', '2082', '2084', '2086', '2088', '2200', '2202', '2204', '2206', '2208', '2220', '2222', '2224', '2226', '2228', '2240', '2242', '2244', '2246', '2248', '2260', '2262', '2264', '2266', '2268', '2280', '2282', '2284', '2286', '2288', '2400', '2402', '2404', '2406', '2408', '2420', '2422', '2424', '2426', '2428', '2440', '2442', '2444', '2446', '2448', '2460', '2462', '2464', '2466', '2468', '2480', '2482', '2484', '2486', '2488', '2600', '2602', '2604', '2606', '2608', '2620', '2622', '2624', '2626', '2628', '2640', '2642', '2644', '2646', '2648', '2660', '2662', '2664', '2666', '2668', '2680', '2682', '2684', '2686', '2688', '2800', '2802', '2804', '2806', '2808', '2820', '2822', '2824', '2826', '2828', '2840', '2842', '2844', '2846', '2848', '2860', '2862', '2864', '2866', '2868', '2880', '2882', '2884', '2886', '2888']\n"
     ]
    }
   ],
   "source": [
    "values = []\n",
    "for i in range(1000, 3001):\n",
    "    s = str(i)\n",
    "    if (int(s[0])%2==0) and (int(s[1])%2==0) and (int(s[2])%2==0) and (int(s[3])%2==0):\n",
    "        values.append(s)\n",
    "print(values)"
   ]
  },
  {
   "cell_type": "code",
   "execution_count": 145,
   "id": "3e3a2581",
   "metadata": {},
   "outputs": [],
   "source": [
    "#86. Write a program that accepts a sentence and calculate the number of letters and digits"
   ]
  },
  {
   "cell_type": "code",
   "execution_count": 1,
   "id": "1ffdaa2b",
   "metadata": {},
   "outputs": [
    {
     "name": "stdout",
     "output_type": "stream",
     "text": [
      "enter wordshgxhs545646\n",
      "LETTERS 6\n",
      "DIGITS 6\n"
     ]
    }
   ],
   "source": [
    "s = input(\"enter word\")\n",
    "d={\"DIGITS\":0, \"LETTERS\":0}\n",
    "for c in s:\n",
    "    if c.isdigit():\n",
    "        d[\"DIGITS\"]+=1\n",
    "    elif c.isalpha():\n",
    "        d[\"LETTERS\"]+=1\n",
    "    else:\n",
    "        pass\n",
    "print (\"LETTERS\", d[\"LETTERS\"])\n",
    "print (\"DIGITS\", d[\"DIGITS\"])"
   ]
  },
  {
   "cell_type": "code",
   "execution_count": 3,
   "id": "87df8d80",
   "metadata": {},
   "outputs": [],
   "source": [
    "#87. Write a program that accepts a sentence and calculate the number of upper case letters and lower case letters."
   ]
  },
  {
   "cell_type": "code",
   "execution_count": 5,
   "id": "a66afd0e",
   "metadata": {},
   "outputs": [
    {
     "name": "stdout",
     "output_type": "stream",
     "text": [
      "enter wordnvjkjHSIJhdgsh\n",
      "UPPER CASE 4\n",
      "LOWER CASE 10\n"
     ]
    }
   ],
   "source": [
    "s = input(\"enter word\")\n",
    "d={\"UPPER CASE\":0, \"LOWER CASE\":0}\n",
    "for c in s:\n",
    "    if c.isupper():\n",
    "        d[\"UPPER CASE\"]+=1\n",
    "    elif c.islower():\n",
    "        d[\"LOWER CASE\"]+=1\n",
    "    else:\n",
    "        pass\n",
    "print (\"UPPER CASE\", d[\"UPPER CASE\"])\n",
    "print (\"LOWER CASE\", d[\"LOWER CASE\"])"
   ]
  },
  {
   "cell_type": "code",
   "execution_count": 6,
   "id": "8b343ac9",
   "metadata": {},
   "outputs": [],
   "source": [
    "# 88.Write a program that computes the net amount of a bank account based a transaction log from console input. The transaction log format is shown as following:\n",
    "# D 100\n",
    "# W 200"
   ]
  },
  {
   "cell_type": "code",
   "execution_count": null,
   "id": "990e5841",
   "metadata": {},
   "outputs": [],
   "source": [
    "# netAmount = 0\n",
    "# while (0<5):\n",
    "#     s = input()\n",
    "#     if not s:\n",
    "#         break\n",
    "#     values = s.split(\" \")\n",
    "#     operation = values[0]\n",
    "    \n",
    "#     amount = int(values[1])\n",
    "#     if operation==\"D\":\n",
    "#         netAmount+=amount\n",
    "#     elif operation==\"W\":\n",
    "#         netAmount-=amount\n",
    "# print (netAmount)"
   ]
  },
  {
   "cell_type": "code",
   "execution_count": 1,
   "id": "2dfbc7ec",
   "metadata": {},
   "outputs": [],
   "source": [
    "#89. Write a program which can map() to make a list whose elements are square of elements in [1,2,3,4,5,6,7,8,9,10]."
   ]
  },
  {
   "cell_type": "code",
   "execution_count": 65,
   "id": "6877b7d4",
   "metadata": {},
   "outputs": [
    {
     "name": "stdout",
     "output_type": "stream",
     "text": [
      "<map object at 0x000002CF43395D30>\n"
     ]
    }
   ],
   "source": [
    "li = [1,2,3,4,5,6,7,8,9,10]\n",
    "squaredNumbers = map(lambda x: x**2, li)\n",
    "print (squaredNumbers)"
   ]
  },
  {
   "cell_type": "code",
   "execution_count": null,
   "id": "2675cfa4",
   "metadata": {},
   "outputs": [],
   "source": []
  },
  {
   "cell_type": "code",
   "execution_count": 67,
   "id": "a070680f",
   "metadata": {},
   "outputs": [],
   "source": [
    "# 90. Define a class named Shape and its subclass Square. The Square class has an init function which takes a length as argument."
   ]
  },
  {
   "cell_type": "code",
   "execution_count": 17,
   "id": "f73c7641",
   "metadata": {},
   "outputs": [
    {
     "data": {
      "text/plain": [
       "64"
      ]
     },
     "execution_count": 17,
     "metadata": {},
     "output_type": "execute_result"
    }
   ],
   "source": [
    "class Shape(object):\n",
    "    def __init__(self):\n",
    "        pass\n",
    "\n",
    "    def area(self):\n",
    "        pass\n",
    "\n",
    "class Square(Shape):\n",
    "    def __init__(self, l):\n",
    "        self.length = l\n",
    "\n",
    "    def area(self):\n",
    "        return self.length*self.length\n",
    "\n",
    "aSquare= Square(8)\n",
    "aSquare.area()"
   ]
  },
  {
   "cell_type": "code",
   "execution_count": 26,
   "id": "a44d2d80",
   "metadata": {},
   "outputs": [],
   "source": [
    "# 91 .Write a function to compute x , y and use try/except to catch the exceptions."
   ]
  },
  {
   "cell_type": "code",
   "execution_count": 32,
   "id": "2c3d8f28",
   "metadata": {},
   "outputs": [],
   "source": [
    "def throws(x,y):\n",
    "    try:\n",
    "        return (x/y)\n",
    "    except ZeroDivisionError:\n",
    "        print (\"division by zero!\")\n",
    "    except Exception. err:\n",
    "        print ('Caught an exception')\n",
    "    finally:\n",
    "        print ('In finally block for cleanup')"
   ]
  },
  {
   "cell_type": "code",
   "execution_count": 34,
   "id": "b1a9d0ed",
   "metadata": {},
   "outputs": [
    {
     "name": "stdout",
     "output_type": "stream",
     "text": [
      "division by zero!\n",
      "In finally block for cleanup\n"
     ]
    }
   ],
   "source": [
    "throws(5,0)"
   ]
  },
  {
   "cell_type": "code",
   "execution_count": 35,
   "id": "32cf48cd",
   "metadata": {},
   "outputs": [],
   "source": [
    "# 92. With a given list [12,24,35,24,88,120,155,88,120,155], write a program to print this list after removing all duplicate values with original order reserved."
   ]
  },
  {
   "cell_type": "code",
   "execution_count": 42,
   "id": "2f9fedb5",
   "metadata": {},
   "outputs": [
    {
     "name": "stdout",
     "output_type": "stream",
     "text": [
      "[12, 24, 35, 88, 120, 155]\n"
     ]
    }
   ],
   "source": [
    "def removeDuplicate( li ):\n",
    "    newli=[]\n",
    "    seen = set()\n",
    "    for item in li:\n",
    "        if item not in seen:\n",
    "            seen.add( item )\n",
    "            newli.append(item)\n",
    "\n",
    "    return newli\n",
    "li=[12,24,35,24,88,120,155,88,120,155]\n",
    "print (removeDuplicate(li))"
   ]
  },
  {
   "cell_type": "code",
   "execution_count": 43,
   "id": "7ed5968a",
   "metadata": {},
   "outputs": [],
   "source": [
    "#93. Define a class Person and its two child classes: Male and Female. All classes have a method \"getGender\" which can print \"Male\" for Male class and \"Female\" for Female class."
   ]
  },
  {
   "cell_type": "code",
   "execution_count": 53,
   "id": "c28908df",
   "metadata": {},
   "outputs": [
    {
     "name": "stdout",
     "output_type": "stream",
     "text": [
      "Male\n",
      "Female\n"
     ]
    }
   ],
   "source": [
    "class Person(object):\n",
    "    def getGender( self ):\n",
    "        return \"Unknown\"\n",
    "\n",
    "class Male( Person ):\n",
    "    def getGender( self ):\n",
    "        return \"Male\"\n",
    "\n",
    "class Female( Person ):\n",
    "    def getGender( self ):\n",
    "        return \"Female\"\n",
    "\n",
    "aMale = Male()\n",
    "aFemale= Female()\n",
    "print(aMale.getGender())\n",
    "print(aFemale.getGender())"
   ]
  },
  {
   "cell_type": "code",
   "execution_count": null,
   "id": "17c21a25",
   "metadata": {},
   "outputs": [],
   "source": [
    "#94. python program to caluculate simple intrest"
   ]
  },
  {
   "cell_type": "code",
   "execution_count": 58,
   "id": "aff6ce48",
   "metadata": {},
   "outputs": [
    {
     "name": "stdout",
     "output_type": "stream",
     "text": [
      "Enter the principal amount: 100\n",
      "Enter the rate of interest: 2\n",
      "Enter the time of interest in year: 1\n",
      "Simple Interest =  2.0\n"
     ]
    }
   ],
   "source": [
    "principal = int(input(\"Enter the principal amount: \"))  \n",
    "rate = int(input(\"Enter the rate of interest: \"))  \n",
    "time = int(input(\"Enter the time of interest in year: \"))  \n",
    "\n",
    "simpleInterest = (principal*rate*time)/100\n",
    "print(\"Simple Interest = \",simpleInterest)"
   ]
  },
  {
   "cell_type": "code",
   "execution_count": 59,
   "id": "29514c9f",
   "metadata": {},
   "outputs": [],
   "source": [
    "# 95. Write a Python program to calculate the area of a triangle."
   ]
  },
  {
   "cell_type": "code",
   "execution_count": 70,
   "id": "cf8ddb4b",
   "metadata": {},
   "outputs": [
    {
     "name": "stdout",
     "output_type": "stream",
     "text": [
      "Enter first side value: 4\n",
      "Enter second side value:5\n",
      "Enter third-side value:5\n",
      "The area of the triangle is:  14.491376746189438\n"
     ]
    }
   ],
   "source": [
    "\n",
    "s1 = float(input('Enter first side value: '))\n",
    "s2 = float(input('Enter second side value:'))\n",
    "s3 = float(input('Enter third-side value:'))\n",
    "sp = (s1 + s2 + s3) / 2\n",
    "area = (sp*(sp-s1)*(sp-2)*(sp-s3)) ** 0.5\n",
    "print('The area of the triangle is: ', area)"
   ]
  },
  {
   "cell_type": "code",
   "execution_count": null,
   "id": "d789962f",
   "metadata": {},
   "outputs": [],
   "source": [
    "#96. Write a Python program to check Armstrong’s number"
   ]
  },
  {
   "cell_type": "code",
   "execution_count": null,
   "id": "42145a1c",
   "metadata": {},
   "outputs": [],
   "source": [
    "\n",
    "num=int(input(\"Enter the number to check armstrong number: \"))\n",
    "\n",
    "arms = num\n",
    "\n",
    "length = len(str(num))\n",
    "\n",
    "while num != 0:\n",
    "    rem = num % 10\n",
    "    sum1 = sum1+(rem**length)\n",
    "\n",
    "if arms == sum1:\n",
    "    print(\"The given number\", arms, \"is armstrong number\")\n",
    "else:\n",
    "    print(\"The given number\", arms, \"is not an armstrong number\")"
   ]
  },
  {
   "cell_type": "code",
   "execution_count": null,
   "id": "b46f3207",
   "metadata": {},
   "outputs": [],
   "source": [
    "# 97.Write a Python program to display the calendar.\n"
   ]
  },
  {
   "cell_type": "code",
   "execution_count": 33,
   "id": "35b879ad",
   "metadata": {},
   "outputs": [
    {
     "name": "stdout",
     "output_type": "stream",
     "text": [
      "Enter the year: 2021\n",
      "Enter the month: 1\n",
      "    January 2021\n",
      "Mo Tu We Th Fr Sa Su\n",
      "             1  2  3\n",
      " 4  5  6  7  8  9 10\n",
      "11 12 13 14 15 16 17\n",
      "18 19 20 21 22 23 24\n",
      "25 26 27 28 29 30 31\n",
      "\n"
     ]
    }
   ],
   "source": [
    "import calendar  \n",
    "\n",
    "year = int(input(\"Enter the year: \"))  \n",
    "month = int(input(\"Enter the month: \"))  \n",
    "print(calendar.month(year,month))  \n"
   ]
  },
  {
   "cell_type": "code",
   "execution_count": null,
   "id": "73bf4905",
   "metadata": {},
   "outputs": [],
   "source": []
  }
 ],
 "metadata": {
  "kernelspec": {
   "display_name": "Python 3 (ipykernel)",
   "language": "python",
   "name": "python3"
  },
  "language_info": {
   "codemirror_mode": {
    "name": "ipython",
    "version": 3
   },
   "file_extension": ".py",
   "mimetype": "text/x-python",
   "name": "python",
   "nbconvert_exporter": "python",
   "pygments_lexer": "ipython3",
   "version": "3.9.12"
  }
 },
 "nbformat": 4,
 "nbformat_minor": 5
}
